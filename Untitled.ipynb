{
 "cells": [
  {
   "cell_type": "code",
   "execution_count": 1,
   "id": "cf0f1b4c-08ce-45d2-b714-b70a37fe1edb",
   "metadata": {},
   "outputs": [],
   "source": [
    "import django"
   ]
  },
  {
   "cell_type": "code",
   "execution_count": 3,
   "id": "a96673b0-0891-42cf-b50c-9f5fc62e2561",
   "metadata": {},
   "outputs": [
    {
     "data": {
      "text/plain": [
       "'4.1.5'"
      ]
     },
     "execution_count": 3,
     "metadata": {},
     "output_type": "execute_result"
    }
   ],
   "source": [
    "django.get_version()"
   ]
  },
  {
   "cell_type": "code",
   "execution_count": 7,
   "id": "54d3de28-90a7-45e0-830f-8d4633a9a69c",
   "metadata": {},
   "outputs": [],
   "source": [
    "! source myvenv/bin/activate"
   ]
  }
 ],
 "metadata": {
  "kernelspec": {
   "display_name": "Python 3 (ipykernel)",
   "language": "python",
   "name": "python3"
  },
  "language_info": {
   "codemirror_mode": {
    "name": "ipython",
    "version": 3
   },
   "file_extension": ".py",
   "mimetype": "text/x-python",
   "name": "python",
   "nbconvert_exporter": "python",
   "pygments_lexer": "ipython3",
   "version": "3.10.6"
  }
 },
 "nbformat": 4,
 "nbformat_minor": 5
}
